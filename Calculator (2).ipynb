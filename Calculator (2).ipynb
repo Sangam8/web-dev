{
  "nbformat": 4,
  "nbformat_minor": 0,
  "metadata": {
    "colab": {
      "provenance": [],
      "authorship_tag": "ABX9TyPvcj3MHq2kXlZT3/YSBVyA",
      "include_colab_link": true
    },
    "kernelspec": {
      "name": "python3",
      "display_name": "Python 3"
    },
    "language_info": {
      "name": "python"
    }
  },
  "cells": [
    {
      "cell_type": "markdown",
      "metadata": {
        "id": "view-in-github",
        "colab_type": "text"
      },
      "source": [
        "<a href=\"https://colab.research.google.com/github/Sangam8/K-Nearest-Neighbor-Classification/blob/main/Calculator.ipynb\" target=\"_parent\"><img src=\"https://colab.research.google.com/assets/colab-badge.svg\" alt=\"Open In Colab\"/></a>"
      ]
    },
    {
      "cell_type": "code",
      "execution_count": null,
      "metadata": {
        "colab": {
          "base_uri": "https://localhost:8080/"
        },
        "id": "8m8lkWgPCcTE",
        "outputId": "11dcee51-aa54-4e6d-adbd-70ec375a777a"
      },
      "outputs": [
        {
          "name": "stdout",
          "output_type": "stream",
          "text": [
            "Rock, Paper, or Scissors? rock\n",
            "You chose rock, AI chose rock\n",
            "It's a tie!\n",
            "Do you want to play again? (yes/no): no\n"
          ]
        }
      ],
      "source": [
        "import tkinter as tk\n",
        "calculation=\"\"\n",
        "\n",
        "def add_to_calculation(symbol):\n",
        "    global calculation\n",
        "    calculation +=str(symbol)\n",
        "    text_result.delete(1.0,\"end\")\n",
        "    text_result.insert(1.0,calculation)\n",
        "\n",
        "def evaluate_calculation():\n",
        "    global calculation\n",
        "    try:\n",
        "        calculation = str(eval(calculation))\n",
        "        text_result.delete(1.0, \"end\")\n",
        "        text_result.insert(1.0, calculation)\n",
        "    except:\n",
        "        clear_field()\n",
        "        text_result.insert(1.0, \"Error\")\n",
        "def clear_field():\n",
        "    global calculation\n",
        "    calculation=\"\"\n",
        "    text_result.delete(1.0,\"end\")\n",
        "\n",
        "root =tk.Tk()\n",
        "root.geometry(\"300x275\")\n",
        "\n",
        "text_result = tk.Text(root, height=2, width=16, font=(\"Arial\",24))\n",
        "text_result.grid(columnspan=5)\n",
        "\n",
        "btn_1 = tk.Button(root, text=\"1\", command=lambda: add_to_calculation(1), width=5, font=(\"Arial\",14))\n",
        "btn_1.grid(row=2, column=1)\n",
        "btn_2 = tk.Button(root, text=\"2\", command=lambda: add_to_calculation(2), width=5, font=(\"Arial\",14))\n",
        "btn_2.grid(row=2, column=2)\n",
        "btn_3 = tk.Button(root, text=\"3\", command=lambda: add_to_calculation(3), width=5, font=(\"Arial\",14))\n",
        "btn_3.grid(row=2, column=3)\n",
        "btn_4 = tk.Button(root, text=\"4\", command=lambda: add_to_calculation(4), width=5, font=(\"Arial\",14))\n",
        "btn_4.grid(row=3, column=1)\n",
        "btn_5 = tk.Button(root, text=\"5\", command=lambda: add_to_calculation(5), width=5, font=(\"Arial\",14))\n",
        "btn_5.grid(row=3, column=2)\n",
        "btn_6 = tk.Button(root, text=\"6\", command=lambda: add_to_calculation(6), width=5, font=(\"Arial\",14))\n",
        "btn_6.grid(row=3, column=3)\n",
        "btn_7 = tk.Button(root, text=\"7\", command=lambda: add_to_calculation(7), width=5, font=(\"Arial\",14))\n",
        "btn_7.grid(row=4, column=1)\n",
        "btn_8 = tk.Button(root, text=\"8\", command=lambda: add_to_calculation(8), width=5, font=(\"Arial\",14))\n",
        "btn_8.grid(row=4, column=2)\n",
        "btn_9 = tk.Button(root, text=\"9\", command=lambda: add_to_calculation(9), width=5, font=(\"Arial\",14))\n",
        "btn_9.grid(row=4, column=3)\n",
        "btn_0 = tk.Button(root, text=\"0\", command=lambda: add_to_calculation(0), width=5, font=(\"Arial\",14))\n",
        "btn_0.grid(row=5, column=2)\n",
        "btn_plus = tk.Button(root, text=\"+\", command=lambda: add_to_calculation(\"+\"), width=5, font=(\"Arial\",14))\n",
        "btn_plus.grid(row=2, column=4)\n",
        "btn_minus = tk.Button(root, text=\"-\", command=lambda: add_to_calculation(\"-\"), width=5, font=(\"Arial\",14))\n",
        "btn_minus.grid(row=3, column=4)\n",
        "btn_mul= tk.Button(root, text=\"*\", command=lambda: add_to_calculation(\"*\"), width=5, font=(\"Arial\",14))\n",
        "btn_mul.grid(row=4, column=4)\n",
        "btn_div = tk.Button(root, text=\"/\", command=lambda: add_to_calculation(\"/\"), width=5, font=(\"Arial\",14))\n",
        "btn_div.grid(row=5, column=4)\n",
        "btn_open = tk.Button(root, text=\"(\", command=lambda: add_to_calculation(\"(\"), width=5, font=(\"Arial\",14))\n",
        "btn_open.grid(row=5, column=1)\n",
        "btn_close = tk.Button(root, text=\")\", command=lambda: add_to_calculation(\")\"), width=5, font=(\"Arial\",14))\n",
        "btn_close.grid(row=5, column=3)\n",
        "btn_clear = tk.Button(root, text=\"C\", command=clear_field, width=11, font=(\"Arial\",14))\n",
        "btn_clear.grid(row=6, column=1, columnspan=2)\n",
        "btn_equals = tk.Button(root, text=\"=\", command=evaluate_calculation, width=11, font=(\"Arial\",14))\n",
        "btn_equals.grid(row=6, column=3, columnspan=2)\n",
        "root.mainloop()\n"
      ]
    }
  ]
}